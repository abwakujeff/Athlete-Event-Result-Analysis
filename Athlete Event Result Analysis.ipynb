{
 "cells": [
  {
   "cell_type": "code",
   "execution_count": null,
   "id": "100b9e66-5b2c-4fb7-80ce-020df1dc73f6",
   "metadata": {},
   "outputs": [],
   "source": [
    "import pandas as pd\n",
    "import numpy as np\n",
    "import plotly.express as px\n",
    "import warnings\n",
    "warnings.filterwarnings(\"ignore\", category=FutureWarning)"
   ]
  },
  {
   "cell_type": "code",
   "execution_count": null,
   "id": "3f47d48b-8aba-4c12-8b65-1b34b962be5f",
   "metadata": {},
   "outputs": [],
   "source": [
    "event = pd.read_csv('../input/olympic-historical-dataset-1896-2020/Olympic_Athlete_Event_Results.csv')"
   ]
  },
  {
   "cell_type": "markdown",
   "id": "6a0cb6b6-62e3-4507-b556-9c483fcdf9f9",
   "metadata": {},
   "source": [
    "Data Cleaning and Preprocessing"
   ]
  },
  {
   "cell_type": "code",
   "execution_count": null,
   "id": "05531dec-8125-4070-8be6-5ff80ec60fdc",
   "metadata": {},
   "outputs": [],
   "source": [
    "event.head()"
   ]
  },
  {
   "cell_type": "code",
   "execution_count": null,
   "id": "fe15a7ad-d374-4551-afd5-1a43581be4ca",
   "metadata": {},
   "outputs": [],
   "source": [
    "event.info()"
   ]
  },
  {
   "cell_type": "code",
   "execution_count": null,
   "id": "72ecc248-bb52-42f7-a965-20bd20210747",
   "metadata": {},
   "outputs": [],
   "source": [
    "numerical_column_names = event.select_dtypes(include=['number']).columns\n",
    "print(\"Numerical Column Names:\", numerical_column_names.tolist())"
   ]
  },
  {
   "cell_type": "code",
   "execution_count": null,
   "id": "1c476a53-0003-4d65-bbdf-248f40785ed1",
   "metadata": {},
   "outputs": [],
   "source": [
    "object_column_names = event.select_dtypes(include=['object']).columns\n",
    "print(\"Object Column Names:\", object_column_names.tolist())"
   ]
  },
  {
   "cell_type": "code",
   "execution_count": null,
   "id": "e748eeb5-1b69-48b6-9b6d-0598070351c8",
   "metadata": {},
   "outputs": [],
   "source": [
    "event.describe()"
   ]
  },
  {
   "cell_type": "code",
   "execution_count": null,
   "id": "e9076225-07a0-4cdb-8156-ed305af48873",
   "metadata": {},
   "outputs": [],
   "source": [
    "event.isnull().sum()"
   ]
  },
  {
   "cell_type": "code",
   "execution_count": null,
   "id": "51163b21-c03a-4584-bb68-0f43aa720f4e",
   "metadata": {},
   "outputs": [],
   "source": [
    "print(\"Number of Rows:\",event.shape[0])"
   ]
  },
  {
   "cell_type": "code",
   "execution_count": null,
   "id": "e7f670d6-feeb-454e-9ff7-0ded49af739b",
   "metadata": {},
   "outputs": [],
   "source": [
    "print(\"Number of Column:\",event.shape[1])"
   ]
  },
  {
   "cell_type": "code",
   "execution_count": null,
   "id": "f71351e1-b503-4592-8419-a3be46918d40",
   "metadata": {},
   "outputs": [],
   "source": [
    "duplicate_count = event.duplicated().sum()\n",
    "\n",
    "print(f\"Number of duplicate rows: {duplicate_count}\")"
   ]
  },
  {
   "cell_type": "code",
   "execution_count": null,
   "id": "80820696-0f05-4afa-b03f-58ebf739b45e",
   "metadata": {},
   "outputs": [],
   "source": [
    "duplicated_rows = event[event.duplicated(keep=False)]\n",
    "\n",
    "print(\"IDs of duplicated rows:\")\n",
    "duplicated_rows[['edition', 'edition_id', 'country_noc', 'sport', 'result_id', 'athlete', 'athlete_id']].head()"
   ]
  },
  {
   "cell_type": "code",
   "execution_count": null,
   "id": "be18e8be-66db-4c93-b084-35ea173cf5fa",
   "metadata": {},
   "outputs": [],
   "source": [
    "event = event.drop_duplicates()"
   ]
  },
  {
   "cell_type": "code",
   "execution_count": null,
   "id": "d44c5dd3-bc87-4e8b-9b8e-bf55b447c5f4",
   "metadata": {},
   "outputs": [],
   "source": [
    "event.nunique()"
   ]
  },
  {
   "cell_type": "code",
   "execution_count": null,
   "id": "dcd19b6c-a4f7-4f1e-9d87-c410cc3cb562",
   "metadata": {},
   "outputs": [],
   "source": [
    "event['event'] = event['event'].astype(str)\n",
    "\n",
    "split_cols = event['event'].str.split(', ', expand=True)\n",
    "event['Event'] = split_cols[0]\n",
    "event['Category'] = split_cols[1]\n",
    "\n",
    "event = event.drop(columns=['event'])"
   ]
  },
  {
   "cell_type": "code",
   "execution_count": null,
   "id": "5f1d569c-335e-400d-99f3-894778341523",
   "metadata": {},
   "outputs": [],
   "source": [
    "event['medal'] = event['medal'].fillna('Participation')"
   ]
  },
  {
   "cell_type": "code",
   "execution_count": null,
   "id": "cdd4c3af-faf8-45eb-a44d-91115d355b39",
   "metadata": {},
   "outputs": [],
   "source": [
    "event.rename(columns = {'pos':'position'}, inplace = True)"
   ]
  },
  {
   "cell_type": "code",
   "execution_count": null,
   "id": "a68880cd-f46a-4226-a4de-32c9bc329eed",
   "metadata": {},
   "outputs": [],
   "source": [
    "event['position'].value_counts()"
   ]
  },
  {
   "cell_type": "code",
   "execution_count": null,
   "id": "f36e96eb-5717-4e42-b895-1f216a0af9cd",
   "metadata": {},
   "outputs": [],
   "source": [
    "event.rename(columns = {'isTeamSport':'TeamSport'}, inplace = True)"
   ]
  },
  {
   "cell_type": "code",
   "execution_count": null,
   "id": "61b9a483-4101-4d7c-ac3e-6e07be66205c",
   "metadata": {},
   "outputs": [],
   "source": [
    "event['TeamSport'] = event['TeamSport'].replace({True:'yes', False:'No'})"
   ]
  },
  {
   "cell_type": "code",
   "execution_count": null,
   "id": "ec7f44e1-f2c2-4445-a5b3-d4a05c29020f",
   "metadata": {},
   "outputs": [],
   "source": [
    "event.head()"
   ]
  },
  {
   "cell_type": "code",
   "execution_count": null,
   "id": "54ff2cd5-d56b-487f-aaa9-17ec8f25bce1",
   "metadata": {},
   "outputs": [],
   "source": [
    "Descriptive Analysis"
   ]
  },
  {
   "cell_type": "code",
   "execution_count": null,
   "id": "039b3ad3-70e4-4bb5-bc3a-f1d656a6f5f1",
   "metadata": {},
   "outputs": [],
   "source": [
    "print(\"Most frequent Sport:\",event['sport'].mode()[0])"
   ]
  }
 ],
 "metadata": {
  "kernelspec": {
   "display_name": "Python 3 (ipykernel)",
   "language": "python",
   "name": "python3"
  },
  "language_info": {
   "codemirror_mode": {
    "name": "ipython",
    "version": 3
   },
   "file_extension": ".py",
   "mimetype": "text/x-python",
   "name": "python",
   "nbconvert_exporter": "python",
   "pygments_lexer": "ipython3",
   "version": "3.11.7"
  }
 },
 "nbformat": 4,
 "nbformat_minor": 5
}
